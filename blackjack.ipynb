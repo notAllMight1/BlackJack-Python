{
 "cells": [
  {
   "cell_type": "code",
   "execution_count": 3,
   "metadata": {},
   "outputs": [],
   "source": [
    "import random\n",
    "\n",
    "suits = ('Hearts', 'Diamonds', 'Spades', 'Clubs')\n",
    "ranks = ('Two', 'Three', 'Four', 'Five', 'Six', 'Seven', 'Eight', 'Nine', 'Ten', 'Jack', 'Queen', 'King', 'Ace')\n",
    "values = {'Two':2, 'Three':3, 'Four':4, 'Five':5, 'Six':6, 'Seven':7, 'Eight':8, 'Nine':9, 'Ten':10, 'Jack':10, 'Queen':10, 'King':10, 'Ace':11}\n",
    "\n",
    "playing = True"
   ]
  },
  {
   "cell_type": "code",
   "execution_count": 4,
   "metadata": {},
   "outputs": [],
   "source": [
    "class Card():\n",
    "    def __init__(self,suit,rank):\n",
    "        self.suit = suit\n",
    "        self.rank = rank\n",
    "    def __str__(self):\n",
    "        return self.rank + \" of \" + self.suit"
   ]
  },
  {
   "cell_type": "code",
   "execution_count": 5,
   "metadata": {},
   "outputs": [],
   "source": [
    "class Deck():\n",
    "    def __init__(self):\n",
    "        self.deck = [] #deck = empty\n",
    "        for suit in suits:\n",
    "            for rank in ranks:\n",
    "                self.deck.append(Card(suit,rank))\n",
    "    def __str__(self):\n",
    "        deck_comp = ''#structure of this deck\n",
    "        for card in self.deck:\n",
    "            deck_comp += '\\n' + card.__str__()\n",
    "        return 'the deck has: '+deck_comp\n",
    "    def shuffle(self):\n",
    "        random.shuffle(self.deck)\n",
    "    def deal(self):\n",
    "        single_card = self.deck.pop()\n",
    "        return single_card"
   ]
  },
  {
   "cell_type": "code",
   "execution_count": 6,
   "metadata": {},
   "outputs": [
    {
     "name": "stdout",
     "output_type": "stream",
     "text": [
      "the deck has: \n",
      "Six of Hearts\n",
      "Four of Spades\n",
      "Ten of Hearts\n",
      "Queen of Diamonds\n",
      "Seven of Diamonds\n",
      "Jack of Clubs\n",
      "Two of Clubs\n",
      "Nine of Hearts\n",
      "King of Diamonds\n",
      "Ten of Clubs\n",
      "Two of Hearts\n",
      "Five of Clubs\n",
      "Five of Spades\n",
      "Three of Hearts\n",
      "Eight of Spades\n",
      "Jack of Spades\n",
      "Seven of Spades\n",
      "Eight of Diamonds\n",
      "Queen of Spades\n",
      "Four of Hearts\n",
      "Two of Diamonds\n",
      "Ten of Diamonds\n",
      "Jack of Diamonds\n",
      "Three of Spades\n",
      "Nine of Clubs\n",
      "Nine of Spades\n",
      "Nine of Diamonds\n",
      "Jack of Hearts\n",
      "Six of Clubs\n",
      "Three of Diamonds\n",
      "Four of Diamonds\n",
      "Ace of Hearts\n",
      "Four of Clubs\n",
      "Seven of Clubs\n",
      "Ten of Spades\n",
      "Six of Spades\n",
      "Ace of Diamonds\n",
      "Ace of Clubs\n",
      "Seven of Hearts\n",
      "King of Clubs\n",
      "Three of Clubs\n",
      "Five of Diamonds\n",
      "Eight of Clubs\n",
      "Two of Spades\n",
      "Five of Hearts\n",
      "Six of Diamonds\n",
      "King of Spades\n",
      "Queen of Hearts\n",
      "Ace of Spades\n",
      "Eight of Hearts\n",
      "King of Hearts\n",
      "Queen of Clubs\n"
     ]
    }
   ],
   "source": [
    "test_deck = Deck()\n",
    "test_deck.shuffle()\n",
    "print(test_deck)"
   ]
  },
  {
   "cell_type": "code",
   "execution_count": 7,
   "metadata": {},
   "outputs": [],
   "source": [
    "class Hand():\n",
    "    def __init__(self):\n",
    "        self.cards = [] #no cards\n",
    "        self.value = 0 #start with 0 value\n",
    "        self.ace = 0 #value checking for aces\n",
    "\n",
    "    def add_card(self,card):\n",
    "        self.cards.append(card)\n",
    "        self.value += values[card.rank]\n",
    "\n",
    "        #track aces\n",
    "        if card.rank == 'Ace':\n",
    "            self.ace+=1\n",
    "\n",
    "        \n",
    "\n",
    "    def ace_adjust(self):\n",
    "        #if roral value > 21 and i have an ace\n",
    "        #then Change my Ace to 1 instead of 11\n",
    "        \n",
    "        while self.value>21 and self.ace>0:\n",
    "            self.value-=10\n",
    "            self.ace-=1\n",
    "\n",
    "    "
   ]
  },
  {
   "cell_type": "code",
   "execution_count": 8,
   "metadata": {},
   "outputs": [
    {
     "name": "stdout",
     "output_type": "stream",
     "text": [
      "Queen of Spades\n",
      "10\n"
     ]
    }
   ],
   "source": [
    "test_deck = Deck()\n",
    "test_deck.shuffle()\n",
    "\n",
    "#player\n",
    "test_player = Hand()\n",
    "pulled_card = test_deck.deal()\n",
    "print(pulled_card)\n",
    "test_player.add_card(pulled_card)\n",
    "print(test_player.value)"
   ]
  },
  {
   "cell_type": "code",
   "execution_count": 9,
   "metadata": {},
   "outputs": [
    {
     "data": {
      "text/plain": [
       "10"
      ]
     },
     "execution_count": 9,
     "metadata": {},
     "output_type": "execute_result"
    }
   ],
   "source": [
    "test_player.value"
   ]
  },
  {
   "cell_type": "code",
   "execution_count": 10,
   "metadata": {},
   "outputs": [],
   "source": [
    "test_player.add_card(test_deck.deal())"
   ]
  },
  {
   "cell_type": "code",
   "execution_count": 11,
   "metadata": {},
   "outputs": [
    {
     "data": {
      "text/plain": [
       "17"
      ]
     },
     "execution_count": 11,
     "metadata": {},
     "output_type": "execute_result"
    }
   ],
   "source": [
    "test_player.value"
   ]
  },
  {
   "cell_type": "markdown",
   "metadata": {},
   "source": [
    "CHIP CLASS"
   ]
  },
  {
   "cell_type": "code",
   "execution_count": 12,
   "metadata": {},
   "outputs": [],
   "source": [
    "class Chips():\n",
    "\n",
    "    def __init__(self,total=100):\n",
    "        self.total = total #provided by the user\n",
    "        self.bet = 0\n",
    "    def win(self):\n",
    "        self.total+=self.bet\n",
    "    def lose(self):\n",
    "        self.total-=self.bet"
   ]
  },
  {
   "cell_type": "markdown",
   "metadata": {},
   "source": [
    "THE ACTUAL GAME AND CONNECTING CLASSES"
   ]
  },
  {
   "cell_type": "code",
   "execution_count": 13,
   "metadata": {},
   "outputs": [],
   "source": [
    "def take_bet(Chips):\n",
    "    while True:\n",
    "        try:\n",
    "            Chips.bet = int(input(\"HOW MANY CHIPS WOULD YOU LIKE TO BET? \"))\n",
    "        except:\n",
    "            print(\"PLEASE INPUT AN INTEGER VALUE. \")\n",
    "        else:\n",
    "            if Chips.bet>Chips.total:\n",
    "                print(\"Sorry, You dont have sufficient chips.\")\n",
    "            else:\n",
    "                break"
   ]
  },
  {
   "cell_type": "code",
   "execution_count": 14,
   "metadata": {},
   "outputs": [],
   "source": [
    "def hit(Deck,Hand):\n",
    "\n",
    "    single_card = Deck.deal()\n",
    "    Hand.add_card(single_card)\n",
    "    Hand.ace_adjust()"
   ]
  },
  {
   "cell_type": "code",
   "execution_count": 21,
   "metadata": {},
   "outputs": [],
   "source": [
    "def Hit_Or_Stand(Deck,Hand):\n",
    "    global playing\n",
    "    while playing == True:\n",
    "        a = input(\"Hit or Stand (h / s)\")\n",
    "        x = a[0].lower()\n",
    "        if x=='h':\n",
    "            hit(Deck,Hand)\n",
    "        elif x=='s':\n",
    "            playing=False\n",
    "        else:\n",
    "            break\n",
    "        "
   ]
  },
  {
   "cell_type": "code",
   "execution_count": 22,
   "metadata": {},
   "outputs": [],
   "source": [
    "#Display the Cards\n",
    "def show_some(player,dealer):\n",
    "#show one of dealer card\n",
    "    print(\"\\nDealers Hand: \")\n",
    "    print(\"First card hidden! \")\n",
    "    print(dealer.cards[1])\n",
    "#show all of player cards\n",
    "    print(\"\\nPlayers hand: \")\n",
    "    for card in player.cards:\n",
    "        print(card)\n",
    "\n",
    "\n",
    "\n",
    "def show_all(player,dealer):\n",
    "#show all dealer cards\n",
    "    print(\"\\nDealer hand: \")\n",
    "    for card in dealer.cards:\n",
    "        print(card)\n",
    "#show the value of dealer\n",
    "    print(\"\\nValue of dealer is: {}\".format(dealer.value))\n",
    "#show players all cards\n",
    "    print(\"\\nPlayers hand: \")\n",
    "    for card in player.cards:\n",
    "        print(card)\n",
    "    print(\"\\nValue of player is: {}\".format(player.value))"
   ]
  },
  {
   "cell_type": "code",
   "execution_count": 23,
   "metadata": {},
   "outputs": [],
   "source": [
    "#Game senarios\n",
    "def player_busts(player,dealer,Chips):\n",
    "    print(\"Bust Player\")\n",
    "    Chips.lose()\n",
    "\n",
    "def player_wins(player,dealer,Chips):\n",
    "    print(\"Win Player\")\n",
    "    Chips.win()\n",
    "\n",
    "def dealer_bust(player,dealer,Chips):\n",
    "    print(\"Bust Dealer\")\n",
    "    Chips.win()\n",
    "\n",
    "def dealer_win(player,dealer,Chips):\n",
    "    print(\"Win Dealer\")\n",
    "    Chips.lose()\n",
    "\n",
    "def push(player,dealer):\n",
    "    print('Dealer and PLayer tie! PUSH')"
   ]
  },
  {
   "cell_type": "markdown",
   "metadata": {},
   "source": [
    "GAME LOGIC"
   ]
  },
  {
   "cell_type": "code",
   "execution_count": 31,
   "metadata": {},
   "outputs": [
    {
     "name": "stdout",
     "output_type": "stream",
     "text": [
      "WELCOME TO BLACKJACK\n",
      "\n",
      "Dealers Hand: \n",
      "First card hidden! \n",
      "King of Clubs\n",
      "\n",
      "Players hand: \n",
      "Nine of Hearts\n",
      "Eight of Diamonds\n",
      "\n",
      "Dealer hand: \n",
      "Four of Diamonds\n",
      "King of Clubs\n",
      "Jack of Hearts\n",
      "\n",
      "Value of dealer is: 24\n",
      "\n",
      "Players hand: \n",
      "Nine of Hearts\n",
      "Eight of Diamonds\n",
      "\n",
      "Value of player is: 17\n",
      "Bust Dealer\n",
      "\n",
      " total chips are 150\n",
      "WELCOME TO BLACKJACK\n",
      "\n",
      "Dealers Hand: \n",
      "First card hidden! \n",
      "Nine of Hearts\n",
      "\n",
      "Players hand: \n",
      "Queen of Spades\n",
      "Ace of Clubs\n",
      "<__main__.Hand object at 0x00000240730F7FD0>\n",
      "\n",
      "Dealers Hand: \n",
      "First card hidden! \n",
      "Nine of Hearts\n",
      "\n",
      "Players hand: \n",
      "Queen of Spades\n",
      "Ace of Clubs\n",
      "\n",
      "Dealer hand: \n",
      "Ten of Hearts\n",
      "Nine of Hearts\n",
      "Queen of Hearts\n",
      "\n",
      "Value of dealer is: 29\n",
      "\n",
      "Players hand: \n",
      "Queen of Spades\n",
      "Ace of Clubs\n",
      "\n",
      "Value of player is: 21\n",
      "Bust Dealer\n",
      "\n",
      " total chips are 150\n",
      "Thank you for playing!!\n"
     ]
    }
   ],
   "source": [
    "while True:\n",
    "    #print opening statement\n",
    "    print(\"WELCOME TO BLACKJACK\")\n",
    "\n",
    "\n",
    "    #shuffle deac and deal 2 cards per player\n",
    "    deck = Deck()\n",
    "    deck.shuffle()\n",
    "\n",
    "    player_hand = Hand()\n",
    "    player_hand.add_card(deck.deal())\n",
    "    player_hand.add_card(deck.deal())\n",
    "\n",
    "\n",
    "    dealer_hand = Hand()\n",
    "    dealer_hand.add_card(deck.deal())\n",
    "    dealer_hand.add_card(deck.deal())\n",
    "\n",
    "    #setup players chips\n",
    "    player_chips = Chips()\n",
    "\n",
    "    \n",
    "    #prompt for bet\n",
    "    take_bet(player_chips)\n",
    "\n",
    "\n",
    "    #show 2nd card of dealer and keep 1st one hidden\n",
    "    show_some(player_hand,dealer_hand)\n",
    "\n",
    "    while playing == True:\n",
    "\n",
    "\n",
    "        #prompt hit or stand\n",
    "        Hit_Or_Stand(deck,player_hand)\n",
    "        print(player_hand)\n",
    "\n",
    "        #show some cards\n",
    "        show_some(player_hand,dealer_hand)\n",
    "\n",
    "        #if player exceeds 21\n",
    "        if player_hand.value>21:\n",
    "            player_busts(player_hand,dealer_hand,player_chips)\n",
    "\n",
    "            break\n",
    "\n",
    "    #if playe hasnt busted player dealer unter dealers value player\n",
    "    if player_hand.value<=21:\n",
    "        while dealer_hand.value < player_hand.value:\n",
    "            hit(deck,dealer_hand)\n",
    "\n",
    "        #show all cards\n",
    "        show_all(player_hand,dealer_hand)\n",
    "\n",
    "        #winning senarios\n",
    "        if dealer_hand.value>21:\n",
    "            dealer_bust(player_hand,dealer_hand,player_chips)\n",
    "        elif dealer_hand.value > player_hand.value:\n",
    "            dealer_win(player_hand,dealer_hand,player_chips)\n",
    "        elif dealer_hand.value < player_hand.value:\n",
    "            player_wins(player_hand,dealer_hand,player_chips)\n",
    "        else:\n",
    "            push(player_hand,dealer_hand)\n",
    "\n",
    "    \n",
    "    #inform the chips\n",
    "    print(\"\\n total chips are {}\".format(player_chips.total))\n",
    "\n",
    "    #ask to play again\n",
    "    new_game = input(\"Would yo like to play? (y/n)\")\n",
    "\n",
    "    if new_game[0].lower() == 'y':\n",
    "        playing =True\n",
    "        continue\n",
    "    else:\n",
    "        print(\"Thank you for playing!!\")\n",
    "        break\n",
    "    "
   ]
  },
  {
   "cell_type": "code",
   "execution_count": null,
   "metadata": {},
   "outputs": [],
   "source": []
  }
 ],
 "metadata": {
  "kernelspec": {
   "display_name": "Python 3.8.8 ('base')",
   "language": "python",
   "name": "python3"
  },
  "language_info": {
   "codemirror_mode": {
    "name": "ipython",
    "version": 3
   },
   "file_extension": ".py",
   "mimetype": "text/x-python",
   "name": "python",
   "nbconvert_exporter": "python",
   "pygments_lexer": "ipython3",
   "version": "3.8.8"
  },
  "orig_nbformat": 4,
  "vscode": {
   "interpreter": {
    "hash": "47e86d731e077963188d400b641a1f5cee6401b89b8a1175acb1a082248e2517"
   }
  }
 },
 "nbformat": 4,
 "nbformat_minor": 2
}
